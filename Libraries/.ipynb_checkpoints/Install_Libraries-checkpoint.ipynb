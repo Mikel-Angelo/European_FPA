{
 "cells": [
  {
   "cell_type": "markdown",
   "id": "77045866",
   "metadata": {},
   "source": [
    "---\n",
    "# Install Libraries"
   ]
  },
  {
   "cell_type": "code",
   "execution_count": 1,
   "id": "5ae1ddc0",
   "metadata": {},
   "outputs": [
    {
     "name": "stdout",
     "output_type": "stream",
     "text": [
      "Requirement already satisfied: pandas in c:\\app_installers\\anaconda\\installer\\application\\lib\\site-packages (2.2.2)\n",
      "Requirement already satisfied: pytz>=2020.1 in c:\\app_installers\\anaconda\\installer\\application\\lib\\site-packages (from pandas) (2021.3)\n",
      "Requirement already satisfied: python-dateutil>=2.8.2 in c:\\app_installers\\anaconda\\installer\\application\\lib\\site-packages (from pandas) (2.8.2)\n",
      "Requirement already satisfied: numpy>=1.22.4 in c:\\app_installers\\anaconda\\installer\\application\\lib\\site-packages (from pandas) (1.22.4)\n",
      "Requirement already satisfied: tzdata>=2022.7 in c:\\app_installers\\anaconda\\installer\\application\\lib\\site-packages (from pandas) (2024.1)\n",
      "Requirement already satisfied: six>=1.5 in c:\\app_installers\\anaconda\\installer\\application\\lib\\site-packages (from python-dateutil>=2.8.2->pandas) (1.16.0)\n",
      "Requirement already satisfied: seaborn in c:\\app_installers\\anaconda\\installer\\application\\lib\\site-packages (0.11.2)\n",
      "Requirement already satisfied: matplotlib>=2.2 in c:\\app_installers\\anaconda\\installer\\application\\lib\\site-packages (from seaborn) (3.4.3)\n",
      "Requirement already satisfied: scipy>=1.0 in c:\\app_installers\\anaconda\\installer\\application\\lib\\site-packages (from seaborn) (1.7.1)\n",
      "Requirement already satisfied: pandas>=0.23 in c:\\app_installers\\anaconda\\installer\\application\\lib\\site-packages (from seaborn) (2.2.2)\n",
      "Requirement already satisfied: numpy>=1.15 in c:\\app_installers\\anaconda\\installer\\application\\lib\\site-packages (from seaborn) (1.22.4)\n",
      "Requirement already satisfied: cycler>=0.10 in c:\\app_installers\\anaconda\\installer\\application\\lib\\site-packages (from matplotlib>=2.2->seaborn) (0.10.0)\n",
      "Requirement already satisfied: pillow>=6.2.0 in c:\\app_installers\\anaconda\\installer\\application\\lib\\site-packages (from matplotlib>=2.2->seaborn) (8.4.0)\n",
      "Requirement already satisfied: python-dateutil>=2.7 in c:\\app_installers\\anaconda\\installer\\application\\lib\\site-packages (from matplotlib>=2.2->seaborn) (2.8.2)\n",
      "Requirement already satisfied: pyparsing>=2.2.1 in c:\\app_installers\\anaconda\\installer\\application\\lib\\site-packages (from matplotlib>=2.2->seaborn) (3.0.4)\n",
      "Requirement already satisfied: kiwisolver>=1.0.1 in c:\\app_installers\\anaconda\\installer\\application\\lib\\site-packages (from matplotlib>=2.2->seaborn) (1.3.1)\n",
      "Requirement already satisfied: six in c:\\app_installers\\anaconda\\installer\\application\\lib\\site-packages (from cycler>=0.10->matplotlib>=2.2->seaborn) (1.16.0)\n",
      "Requirement already satisfied: pytz>=2020.1 in c:\\app_installers\\anaconda\\installer\\application\\lib\\site-packages (from pandas>=0.23->seaborn) (2021.3)\n",
      "Requirement already satisfied: tzdata>=2022.7 in c:\\app_installers\\anaconda\\installer\\application\\lib\\site-packages (from pandas>=0.23->seaborn) (2024.1)\n",
      "Requirement already satisfied: mplcyberpunk in c:\\app_installers\\anaconda\\installer\\application\\lib\\site-packages (0.7.1)\n",
      "Requirement already satisfied: matplotlib in c:\\app_installers\\anaconda\\installer\\application\\lib\\site-packages (from mplcyberpunk) (3.4.3)\n",
      "Requirement already satisfied: cycler>=0.10 in c:\\app_installers\\anaconda\\installer\\application\\lib\\site-packages (from matplotlib->mplcyberpunk) (0.10.0)\n",
      "Requirement already satisfied: pillow>=6.2.0 in c:\\app_installers\\anaconda\\installer\\application\\lib\\site-packages (from matplotlib->mplcyberpunk) (8.4.0)\n",
      "Requirement already satisfied: kiwisolver>=1.0.1 in c:\\app_installers\\anaconda\\installer\\application\\lib\\site-packages (from matplotlib->mplcyberpunk) (1.3.1)\n",
      "Requirement already satisfied: python-dateutil>=2.7 in c:\\app_installers\\anaconda\\installer\\application\\lib\\site-packages (from matplotlib->mplcyberpunk) (2.8.2)\n",
      "Requirement already satisfied: pyparsing>=2.2.1 in c:\\app_installers\\anaconda\\installer\\application\\lib\\site-packages (from matplotlib->mplcyberpunk) (3.0.4)\n",
      "Requirement already satisfied: numpy>=1.16 in c:\\app_installers\\anaconda\\installer\\application\\lib\\site-packages (from matplotlib->mplcyberpunk) (1.22.4)\n",
      "Requirement already satisfied: six in c:\\app_installers\\anaconda\\installer\\application\\lib\\site-packages (from cycler>=0.10->matplotlib->mplcyberpunk) (1.16.0)\n",
      "Requirement already satisfied: plotly==5.23.0 in c:\\app_installers\\anaconda\\installer\\application\\lib\\site-packages (5.23.0)\n",
      "Requirement already satisfied: packaging in c:\\app_installers\\anaconda\\installer\\application\\lib\\site-packages (from plotly==5.23.0) (21.0)\n",
      "Requirement already satisfied: tenacity>=6.2.0 in c:\\app_installers\\anaconda\\installer\\application\\lib\\site-packages (from plotly==5.23.0) (8.3.0)\n",
      "Requirement already satisfied: pyparsing>=2.0.2 in c:\\app_installers\\anaconda\\installer\\application\\lib\\site-packages (from packaging->plotly==5.23.0) (3.0.4)\n",
      "Requirement already satisfied: plotly in c:\\app_installers\\anaconda\\installer\\application\\lib\\site-packages (5.23.0)\n",
      "Requirement already satisfied: packaging in c:\\app_installers\\anaconda\\installer\\application\\lib\\site-packages (from plotly) (21.0)\n",
      "Requirement already satisfied: tenacity>=6.2.0 in c:\\app_installers\\anaconda\\installer\\application\\lib\\site-packages (from plotly) (8.3.0)\n",
      "Requirement already satisfied: pyparsing>=2.0.2 in c:\\app_installers\\anaconda\\installer\\application\\lib\\site-packages (from packaging->plotly) (3.0.4)\n",
      "Requirement already satisfied: matplotlib in c:\\app_installers\\anaconda\\installer\\application\\lib\\site-packages (3.4.3)\n",
      "Requirement already satisfied: kiwisolver>=1.0.1 in c:\\app_installers\\anaconda\\installer\\application\\lib\\site-packages (from matplotlib) (1.3.1)\n",
      "Requirement already satisfied: pillow>=6.2.0 in c:\\app_installers\\anaconda\\installer\\application\\lib\\site-packages (from matplotlib) (8.4.0)\n",
      "Requirement already satisfied: pyparsing>=2.2.1 in c:\\app_installers\\anaconda\\installer\\application\\lib\\site-packages (from matplotlib) (3.0.4)\n",
      "Requirement already satisfied: python-dateutil>=2.7 in c:\\app_installers\\anaconda\\installer\\application\\lib\\site-packages (from matplotlib) (2.8.2)\n",
      "Requirement already satisfied: cycler>=0.10 in c:\\app_installers\\anaconda\\installer\\application\\lib\\site-packages (from matplotlib) (0.10.0)\n",
      "Requirement already satisfied: numpy>=1.16 in c:\\app_installers\\anaconda\\installer\\application\\lib\\site-packages (from matplotlib) (1.22.4)\n",
      "Requirement already satisfied: six in c:\\app_installers\\anaconda\\installer\\application\\lib\\site-packages (from cycler>=0.10->matplotlib) (1.16.0)\n",
      "Requirement already satisfied: requests in c:\\app_installers\\anaconda\\installer\\application\\lib\\site-packages (2.26.0)\n",
      "Requirement already satisfied: idna<4,>=2.5 in c:\\app_installers\\anaconda\\installer\\application\\lib\\site-packages (from requests) (3.2)\n",
      "Requirement already satisfied: charset-normalizer~=2.0.0 in c:\\app_installers\\anaconda\\installer\\application\\lib\\site-packages (from requests) (2.0.4)\n",
      "Requirement already satisfied: certifi>=2017.4.17 in c:\\app_installers\\anaconda\\installer\\application\\lib\\site-packages (from requests) (2024.6.2)\n",
      "Requirement already satisfied: urllib3<1.27,>=1.21.1 in c:\\app_installers\\anaconda\\installer\\application\\lib\\site-packages (from requests) (1.26.7)\n"
     ]
    }
   ],
   "source": [
    "!pip install pandas\n",
    "!pip install seaborn\n",
    "\n",
    "!pip install mplcyberpunk\n",
    "!pip install plotly==5.23.0\n",
    "\n",
    "!pip install plotly\n",
    "!pip install matplotlib\n",
    "\n",
    "!pip install requests\n",
    "!pip3 install lxml"
   ]
  },
  {
   "cell_type": "markdown",
   "id": "cfceb8bf",
   "metadata": {},
   "source": [
    "---"
   ]
  },
  {
   "cell_type": "code",
   "execution_count": null,
   "id": "5c3a9e83",
   "metadata": {},
   "outputs": [],
   "source": []
  }
 ],
 "metadata": {
  "kernelspec": {
   "display_name": "Python 3 (ipykernel)",
   "language": "python",
   "name": "python3"
  },
  "language_info": {
   "codemirror_mode": {
    "name": "ipython",
    "version": 3
   },
   "file_extension": ".py",
   "mimetype": "text/x-python",
   "name": "python",
   "nbconvert_exporter": "python",
   "pygments_lexer": "ipython3",
   "version": "3.11.9"
  }
 },
 "nbformat": 4,
 "nbformat_minor": 5
}
