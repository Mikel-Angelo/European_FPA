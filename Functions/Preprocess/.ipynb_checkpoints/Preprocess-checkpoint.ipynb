{
 "cells": [
  {
   "cell_type": "markdown",
   "id": "489154b7",
   "metadata": {},
   "source": [
    "---\n",
    "# Libraries"
   ]
  },
  {
   "cell_type": "code",
   "execution_count": 3,
   "id": "2a75fd50",
   "metadata": {},
   "outputs": [],
   "source": [
    "import pandas as pd"
   ]
  },
  {
   "cell_type": "markdown",
   "id": "07bde78e",
   "metadata": {},
   "source": [
    "---\n",
    "# Functions"
   ]
  },
  {
   "cell_type": "code",
   "execution_count": 2,
   "id": "34b5cf0d",
   "metadata": {},
   "outputs": [],
   "source": [
    "def Convert_ObjectOrFloat_ToInt(dataframe, column_name):\n",
    "    '''\n",
    "    This Function Return a dataframe and convert object or float column to Int\n",
    "    ------------------------------\n",
    "    Parameter(dataframe): Dataframe\n",
    "    Parameter(column_name): Column name (string)\n",
    "    ------------------------------\n",
    "    '''\n",
    "    \n",
    "    if dataframe[column_name].dtype == 'O' or dataframe[column_name].dtype == 'float64':\n",
    "            dataframe[column_name] = dataframe[column_name].astype(int)\n",
    "    \n",
    "    return dataframe"
   ]
  },
  {
   "cell_type": "markdown",
   "id": "37760270",
   "metadata": {},
   "source": [
    "---"
   ]
  },
  {
   "cell_type": "code",
   "execution_count": null,
   "id": "3fd67c00",
   "metadata": {},
   "outputs": [],
   "source": []
  }
 ],
 "metadata": {
  "kernelspec": {
   "display_name": "Python 3 (ipykernel)",
   "language": "python",
   "name": "python3"
  },
  "language_info": {
   "codemirror_mode": {
    "name": "ipython",
    "version": 3
   },
   "file_extension": ".py",
   "mimetype": "text/x-python",
   "name": "python",
   "nbconvert_exporter": "python",
   "pygments_lexer": "ipython3",
   "version": "3.9.7"
  }
 },
 "nbformat": 4,
 "nbformat_minor": 5
}
