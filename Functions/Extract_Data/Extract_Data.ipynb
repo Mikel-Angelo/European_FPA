{
 "cells": [
  {
   "cell_type": "markdown",
   "id": "b2ba047c",
   "metadata": {},
   "source": [
    "---\n",
    "# Libraries"
   ]
  },
  {
   "cell_type": "code",
   "execution_count": 1,
   "id": "9be63014",
   "metadata": {},
   "outputs": [],
   "source": [
    "import pandas as pd\n",
    "import requests "
   ]
  },
  {
   "cell_type": "markdown",
   "id": "05f66fce",
   "metadata": {},
   "source": [
    "---\n",
    "# Functions"
   ]
  },
  {
   "cell_type": "code",
   "execution_count": null,
   "id": "183bbe8e",
   "metadata": {},
   "outputs": [],
   "source": [
    "def Extract_Data(url):\n",
    "    '''\n",
    "    This Function Return dataframe with European coutries of ΦΠΑ\n",
    "    ------------------------------\n",
    "    Parameter(url): Url from website where to Extract\n",
    "    ------------------------------\n",
    "    '''\n",
    "    \n",
    "    data = requests.get(url)\n",
    "    \n",
    "    name_of_site = data.url\n",
    "    \n",
    "    html_page = data.content\n",
    "    dataframe = pd.read_html(html_page)\n",
    "    dataframe = dataframe[0]\n",
    "\n",
    "    dataframe.drop([dataframe.columns[1], dataframe.columns[2], dataframe.columns[3]], axis=1, inplace=True)\n",
    "\n",
    "    for _ in range(len(dataframe.columns)):\n",
    "        dataframe.rename(columns={dataframe.columns[_] : dataframe.iloc[0,_]}, inplace=True)\n",
    "    \n",
    "    return dataframe, name_of_site"
   ]
  },
  {
   "cell_type": "markdown",
   "id": "b8416bf3",
   "metadata": {},
   "source": [
    "---"
   ]
  },
  {
   "cell_type": "code",
   "execution_count": null,
   "id": "ac1807dd",
   "metadata": {},
   "outputs": [],
   "source": []
  }
 ],
 "metadata": {
  "kernelspec": {
   "display_name": "Python 3 (ipykernel)",
   "language": "python",
   "name": "python3"
  },
  "language_info": {
   "codemirror_mode": {
    "name": "ipython",
    "version": 3
   },
   "file_extension": ".py",
   "mimetype": "text/x-python",
   "name": "python",
   "nbconvert_exporter": "python",
   "pygments_lexer": "ipython3",
   "version": "3.9.7"
  }
 },
 "nbformat": 4,
 "nbformat_minor": 5
}
